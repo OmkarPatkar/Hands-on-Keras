{
  "nbformat": 4,
  "nbformat_minor": 0,
  "metadata": {
    "colab": {
      "name": "Keras_2.ipynb",
      "provenance": [],
      "collapsed_sections": []
    },
    "kernelspec": {
      "name": "python3",
      "display_name": "Python 3"
    }
  },
  "cells": [
    {
      "cell_type": "code",
      "metadata": {
        "id": "LBKW1Wy4YWMz",
        "colab_type": "code",
        "colab": {}
      },
      "source": [
        "#import dependencies \n",
        "!pip install tensorflow==1.14.0\n",
        "import keras\n",
        "import pandas as pd\n",
        "import numpy as np"
      ],
      "execution_count": 0,
      "outputs": []
    },
    {
      "cell_type": "code",
      "metadata": {
        "id": "Mv8v72KmihRe",
        "colab_type": "code",
        "outputId": "2d909155-681b-461c-c548-abfb8f9d7bb0",
        "colab": {
          "base_uri": "https://localhost:8080/",
          "height": 206
        }
      },
      "source": [
        "#load data\n",
        "df = pd.read_csv(\"drive/My Drive/Colab Notebooks/HousingPrices.csv\")\n",
        "df.head()"
      ],
      "execution_count": 0,
      "outputs": [
        {
          "output_type": "execute_result",
          "data": {
            "text/html": [
              "<div>\n",
              "<style scoped>\n",
              "    .dataframe tbody tr th:only-of-type {\n",
              "        vertical-align: middle;\n",
              "    }\n",
              "\n",
              "    .dataframe tbody tr th {\n",
              "        vertical-align: top;\n",
              "    }\n",
              "\n",
              "    .dataframe thead th {\n",
              "        text-align: right;\n",
              "    }\n",
              "</style>\n",
              "<table border=\"1\" class=\"dataframe\">\n",
              "  <thead>\n",
              "    <tr style=\"text-align: right;\">\n",
              "      <th></th>\n",
              "      <th>YearBuilt</th>\n",
              "      <th>2ndFlrSF</th>\n",
              "      <th>GrLivArea</th>\n",
              "      <th>FullBath</th>\n",
              "      <th>HalfBath</th>\n",
              "      <th>BedroomAbvGr</th>\n",
              "      <th>TotRmsAbvGrd</th>\n",
              "      <th>YrSold</th>\n",
              "      <th>SalePrice</th>\n",
              "    </tr>\n",
              "  </thead>\n",
              "  <tbody>\n",
              "    <tr>\n",
              "      <th>0</th>\n",
              "      <td>2003</td>\n",
              "      <td>854</td>\n",
              "      <td>1710</td>\n",
              "      <td>2</td>\n",
              "      <td>1</td>\n",
              "      <td>3</td>\n",
              "      <td>8</td>\n",
              "      <td>2008</td>\n",
              "      <td>208500</td>\n",
              "    </tr>\n",
              "    <tr>\n",
              "      <th>1</th>\n",
              "      <td>1976</td>\n",
              "      <td>0</td>\n",
              "      <td>1262</td>\n",
              "      <td>2</td>\n",
              "      <td>0</td>\n",
              "      <td>3</td>\n",
              "      <td>6</td>\n",
              "      <td>2007</td>\n",
              "      <td>181500</td>\n",
              "    </tr>\n",
              "    <tr>\n",
              "      <th>2</th>\n",
              "      <td>2001</td>\n",
              "      <td>866</td>\n",
              "      <td>1786</td>\n",
              "      <td>2</td>\n",
              "      <td>1</td>\n",
              "      <td>3</td>\n",
              "      <td>6</td>\n",
              "      <td>2008</td>\n",
              "      <td>223500</td>\n",
              "    </tr>\n",
              "    <tr>\n",
              "      <th>3</th>\n",
              "      <td>1915</td>\n",
              "      <td>756</td>\n",
              "      <td>1717</td>\n",
              "      <td>1</td>\n",
              "      <td>0</td>\n",
              "      <td>3</td>\n",
              "      <td>7</td>\n",
              "      <td>2006</td>\n",
              "      <td>140000</td>\n",
              "    </tr>\n",
              "    <tr>\n",
              "      <th>4</th>\n",
              "      <td>2000</td>\n",
              "      <td>1053</td>\n",
              "      <td>2198</td>\n",
              "      <td>2</td>\n",
              "      <td>1</td>\n",
              "      <td>4</td>\n",
              "      <td>9</td>\n",
              "      <td>2008</td>\n",
              "      <td>250000</td>\n",
              "    </tr>\n",
              "  </tbody>\n",
              "</table>\n",
              "</div>"
            ],
            "text/plain": [
              "   YearBuilt  2ndFlrSF  GrLivArea  ...  TotRmsAbvGrd  YrSold  SalePrice\n",
              "0       2003       854       1710  ...             8    2008     208500\n",
              "1       1976         0       1262  ...             6    2007     181500\n",
              "2       2001       866       1786  ...             6    2008     223500\n",
              "3       1915       756       1717  ...             7    2006     140000\n",
              "4       2000      1053       2198  ...             9    2008     250000\n",
              "\n",
              "[5 rows x 9 columns]"
            ]
          },
          "metadata": {
            "tags": []
          },
          "execution_count": 10
        }
      ]
    },
    {
      "cell_type": "code",
      "metadata": {
        "id": "ILR07wlAit9W",
        "colab_type": "code",
        "colab": {}
      },
      "source": [
        "#set x value to every attribute except for the sale price, and y value to the sale price,\n",
        "# since that will be what we are predicting\n",
        "x = df.drop(columns=['SalePrice'])\n",
        "y = df[['SalePrice']]"
      ],
      "execution_count": 0,
      "outputs": []
    },
    {
      "cell_type": "code",
      "metadata": {
        "id": "m_x4SIo5jaER",
        "colab_type": "code",
        "colab": {}
      },
      "source": [
        "#build the model\n",
        "model = keras.Sequential()\n",
        "\n",
        "#add three layers neurons\n",
        "model.add(keras.layers.Dense(8, activation = 'relu', input_shape = (8,)))\n",
        "model.add(keras.layers.Dense(8, activation='relu'))\n",
        "model.add(keras.layers.Dense(1))\n",
        "\n",
        "#compile the model\n",
        "model.compile(optimizer = 'adam', loss = 'mean_squared_error')"
      ],
      "execution_count": 0,
      "outputs": []
    },
    {
      "cell_type": "code",
      "metadata": {
        "id": "OKOG5TES5WKJ",
        "colab_type": "code",
        "outputId": "68336bc6-82f5-4013-d22c-2a9fc53c471c",
        "colab": {
          "base_uri": "https://localhost:8080/",
          "height": 1000
        }
      },
      "source": [
        "#Keras has a built in feature called EarlyStopping that will stop the model when no more progress is being made.\n",
        "#This saves GPU power and helps prevent our model from overfitting.\n",
        "\n",
        "model.fit(x, y, epochs=30, callbacks=[keras.callbacks.EarlyStopping(patience = 5)])"
      ],
      "execution_count": 0,
      "outputs": [
        {
          "output_type": "stream",
          "text": [
            "Epoch 1/30\n",
            "1460/1460 [==============================] - 0s 204us/step - loss: 39005284716.7123\n",
            "Epoch 2/30\n",
            "1460/1460 [==============================] - 0s 36us/step - loss: 38733288843.5726\n",
            "Epoch 3/30\n",
            "1460/1460 [==============================] - 0s 42us/step - loss: 38263951786.4329\n",
            "Epoch 4/30\n",
            "1460/1460 [==============================] - 0s 39us/step - loss: 37473631515.3534\n",
            "Epoch 5/30\n",
            "  32/1460 [..............................] - ETA: 0s - loss: 32478752768.0000"
          ],
          "name": "stdout"
        },
        {
          "output_type": "stream",
          "text": [
            "/usr/local/lib/python3.6/dist-packages/keras/callbacks.py:842: RuntimeWarning: Early stopping conditioned on metric `val_loss` which is not available. Available metrics are: loss\n",
            "  (self.monitor, ','.join(list(logs.keys()))), RuntimeWarning\n"
          ],
          "name": "stderr"
        },
        {
          "output_type": "stream",
          "text": [
            "1460/1460 [==============================] - 0s 43us/step - loss: 36284339343.0795\n",
            "Epoch 6/30\n",
            "1460/1460 [==============================] - 0s 40us/step - loss: 34641280165.5233\n",
            "Epoch 7/30\n",
            "1460/1460 [==============================] - 0s 33us/step - loss: 32481796438.2685\n",
            "Epoch 8/30\n",
            "1460/1460 [==============================] - 0s 34us/step - loss: 29774155327.1233\n",
            "Epoch 9/30\n",
            "1460/1460 [==============================] - 0s 34us/step - loss: 26607416036.6466\n",
            "Epoch 10/30\n",
            "1460/1460 [==============================] - 0s 35us/step - loss: 23112782098.9370\n",
            "Epoch 11/30\n",
            "1460/1460 [==============================] - 0s 42us/step - loss: 19484330183.1890\n",
            "Epoch 12/30\n",
            "1460/1460 [==============================] - 0s 44us/step - loss: 15945618157.0630\n",
            "Epoch 13/30\n",
            "1460/1460 [==============================] - 0s 33us/step - loss: 12729558826.7836\n",
            "Epoch 14/30\n",
            "1460/1460 [==============================] - 0s 35us/step - loss: 9999749456.6575\n",
            "Epoch 15/30\n",
            "1460/1460 [==============================] - 0s 43us/step - loss: 7890983439.4301\n",
            "Epoch 16/30\n",
            "1460/1460 [==============================] - 0s 35us/step - loss: 6409681218.6301\n",
            "Epoch 17/30\n",
            "1460/1460 [==============================] - 0s 34us/step - loss: 5480311246.2027\n",
            "Epoch 18/30\n",
            "1460/1460 [==============================] - 0s 41us/step - loss: 4961306837.2164\n",
            "Epoch 19/30\n",
            "1460/1460 [==============================] - 0s 42us/step - loss: 4687946982.7507\n",
            "Epoch 20/30\n",
            "1460/1460 [==============================] - 0s 36us/step - loss: 4566167620.7342\n",
            "Epoch 21/30\n",
            "1460/1460 [==============================] - 0s 38us/step - loss: 4510391837.4575\n",
            "Epoch 22/30\n",
            "1460/1460 [==============================] - 0s 36us/step - loss: 4485672790.9699\n",
            "Epoch 23/30\n",
            "1460/1460 [==============================] - 0s 40us/step - loss: 4470717754.2137\n",
            "Epoch 24/30\n",
            "1460/1460 [==============================] - 0s 40us/step - loss: 4460898301.1945\n",
            "Epoch 25/30\n",
            "1460/1460 [==============================] - 0s 36us/step - loss: 4454051015.8904\n",
            "Epoch 26/30\n",
            "1460/1460 [==============================] - 0s 37us/step - loss: 4444719928.1096\n",
            "Epoch 27/30\n",
            "1460/1460 [==============================] - 0s 36us/step - loss: 4436706546.6740\n",
            "Epoch 28/30\n",
            "1460/1460 [==============================] - 0s 35us/step - loss: 4429128437.4795\n",
            "Epoch 29/30\n",
            "1460/1460 [==============================] - 0s 44us/step - loss: 4417549051.0904\n",
            "Epoch 30/30\n",
            "1460/1460 [==============================] - 0s 37us/step - loss: 4406961210.9151\n"
          ],
          "name": "stdout"
        },
        {
          "output_type": "execute_result",
          "data": {
            "text/plain": [
              "<keras.callbacks.History at 0x7f1aac8d0c18>"
            ]
          },
          "metadata": {
            "tags": []
          },
          "execution_count": 14
        }
      ]
    },
    {
      "cell_type": "code",
      "metadata": {
        "id": "dkXvhRG3BRpM",
        "colab_type": "code",
        "outputId": "1fbe948f-b074-44fe-989f-fff151dc55ad",
        "colab": {
          "base_uri": "https://localhost:8080/",
          "height": 34
        }
      },
      "source": [
        "#we will test our model on the first value of our dataset.\n",
        "#the values in the array should be in same order as our dataset.\n",
        "test_data = np.array([2003, 854, 1710, 2, 1, 3, 8, 2008])\n",
        "print(model.predict(test_data.reshape(1,8), batch_size= 1))"
      ],
      "execution_count": 0,
      "outputs": [
        {
          "output_type": "stream",
          "text": [
            "[[206284.14]]\n"
          ],
          "name": "stdout"
        }
      ]
    },
    {
      "cell_type": "code",
      "metadata": {
        "id": "VlBXCpJQEt7c",
        "colab_type": "code",
        "outputId": "831efce1-f0f9-4d3f-cb34-62437f73bb05",
        "colab": {
          "base_uri": "https://localhost:8080/",
          "height": 34
        }
      },
      "source": [
        "#we can save the model for later use in following way \n",
        "model.save('saved_model.h5')\n",
        "!ls"
      ],
      "execution_count": 0,
      "outputs": [
        {
          "output_type": "stream",
          "text": [
            "drive  sample_data  saved_model.h5\n"
          ],
          "name": "stdout"
        }
      ]
    },
    {
      "cell_type": "code",
      "metadata": {
        "id": "XpcGf9ifHUhD",
        "colab_type": "code",
        "outputId": "c8744785-b025-45ec-f046-e0d6e503d973",
        "colab": {
          "base_uri": "https://localhost:8080/",
          "height": 34
        }
      },
      "source": [
        "#to use the same moddel, use the following code\n",
        "old_model = keras.models.load_model('saved_model.h5')\n",
        "\n",
        "test_data = np.array([2003,\t854,\t1710,\t2,\t1,\t3,\t8,\t2008])\n",
        "print(old_model.predict(test_data.reshape(1,8), batch_size=1))"
      ],
      "execution_count": 0,
      "outputs": [
        {
          "output_type": "stream",
          "text": [
            "[[206284.14]]\n"
          ],
          "name": "stdout"
        }
      ]
    },
    {
      "cell_type": "code",
      "metadata": {
        "id": "EHAqVj1PHrtZ",
        "colab_type": "code",
        "colab": {}
      },
      "source": [
        ""
      ],
      "execution_count": 0,
      "outputs": []
    }
  ]
}