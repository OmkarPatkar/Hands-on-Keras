{
  "nbformat": 4,
  "nbformat_minor": 0,
  "metadata": {
    "colab": {
      "name": "Copy of keras_1.ipynb",
      "provenance": []
    },
    "kernelspec": {
      "name": "python3",
      "display_name": "Python 3"
    }
  },
  "cells": [
    {
      "cell_type": "markdown",
      "metadata": {
        "id": "wV7uBFR8daIu",
        "colab_type": "text"
      },
      "source": [
        "**Predict price of the house from given square ft values using linear regression **"
      ]
    },
    {
      "cell_type": "code",
      "metadata": {
        "id": "m-q5prG36tZj",
        "colab_type": "code",
        "colab": {}
      },
      "source": [
        "!pip install tensorflow==1.14.0\n",
        "import keras\n",
        "import numpy as np\n",
        "import pandas as pd\n",
        "import matplotlib.pyplot as plt"
      ],
      "execution_count": 0,
      "outputs": []
    },
    {
      "cell_type": "code",
      "metadata": {
        "id": "MYnRWOr1Grgz",
        "colab_type": "code",
        "colab": {}
      },
      "source": [
        "df = pd.read_csv(\"drive/My Drive/Colab Notebooks/IowaHousingPrices.csv\")"
      ],
      "execution_count": 0,
      "outputs": []
    },
    {
      "cell_type": "code",
      "metadata": {
        "id": "IKx39ynZP9QU",
        "colab_type": "code",
        "colab": {
          "base_uri": "https://localhost:8080/",
          "height": 424
        },
        "outputId": "0004b405-f037-4393-bf4e-5d46ef2cb806"
      },
      "source": [
        "df"
      ],
      "execution_count": 3,
      "outputs": [
        {
          "output_type": "execute_result",
          "data": {
            "text/html": [
              "<div>\n",
              "<style scoped>\n",
              "    .dataframe tbody tr th:only-of-type {\n",
              "        vertical-align: middle;\n",
              "    }\n",
              "\n",
              "    .dataframe tbody tr th {\n",
              "        vertical-align: top;\n",
              "    }\n",
              "\n",
              "    .dataframe thead th {\n",
              "        text-align: right;\n",
              "    }\n",
              "</style>\n",
              "<table border=\"1\" class=\"dataframe\">\n",
              "  <thead>\n",
              "    <tr style=\"text-align: right;\">\n",
              "      <th></th>\n",
              "      <th>SquareFeet</th>\n",
              "      <th>SalePrice</th>\n",
              "    </tr>\n",
              "  </thead>\n",
              "  <tbody>\n",
              "    <tr>\n",
              "      <th>0</th>\n",
              "      <td>1710</td>\n",
              "      <td>208500</td>\n",
              "    </tr>\n",
              "    <tr>\n",
              "      <th>1</th>\n",
              "      <td>1262</td>\n",
              "      <td>181500</td>\n",
              "    </tr>\n",
              "    <tr>\n",
              "      <th>2</th>\n",
              "      <td>1786</td>\n",
              "      <td>223500</td>\n",
              "    </tr>\n",
              "    <tr>\n",
              "      <th>3</th>\n",
              "      <td>1717</td>\n",
              "      <td>140000</td>\n",
              "    </tr>\n",
              "    <tr>\n",
              "      <th>4</th>\n",
              "      <td>2198</td>\n",
              "      <td>250000</td>\n",
              "    </tr>\n",
              "    <tr>\n",
              "      <th>...</th>\n",
              "      <td>...</td>\n",
              "      <td>...</td>\n",
              "    </tr>\n",
              "    <tr>\n",
              "      <th>1455</th>\n",
              "      <td>1647</td>\n",
              "      <td>175000</td>\n",
              "    </tr>\n",
              "    <tr>\n",
              "      <th>1456</th>\n",
              "      <td>2073</td>\n",
              "      <td>210000</td>\n",
              "    </tr>\n",
              "    <tr>\n",
              "      <th>1457</th>\n",
              "      <td>2340</td>\n",
              "      <td>266500</td>\n",
              "    </tr>\n",
              "    <tr>\n",
              "      <th>1458</th>\n",
              "      <td>1078</td>\n",
              "      <td>142125</td>\n",
              "    </tr>\n",
              "    <tr>\n",
              "      <th>1459</th>\n",
              "      <td>1256</td>\n",
              "      <td>147500</td>\n",
              "    </tr>\n",
              "  </tbody>\n",
              "</table>\n",
              "<p>1460 rows × 2 columns</p>\n",
              "</div>"
            ],
            "text/plain": [
              "      SquareFeet  SalePrice\n",
              "0           1710     208500\n",
              "1           1262     181500\n",
              "2           1786     223500\n",
              "3           1717     140000\n",
              "4           2198     250000\n",
              "...          ...        ...\n",
              "1455        1647     175000\n",
              "1456        2073     210000\n",
              "1457        2340     266500\n",
              "1458        1078     142125\n",
              "1459        1256     147500\n",
              "\n",
              "[1460 rows x 2 columns]"
            ]
          },
          "metadata": {
            "tags": []
          },
          "execution_count": 3
        }
      ]
    },
    {
      "cell_type": "code",
      "metadata": {
        "id": "52uAUU5YP_vA",
        "colab_type": "code",
        "colab": {}
      },
      "source": [
        "squareFeet = df[[\"SquareFeet\"]].values\n",
        "salePrice = df[[\"SalePrice\"]].values"
      ],
      "execution_count": 0,
      "outputs": []
    },
    {
      "cell_type": "code",
      "metadata": {
        "id": "b8DSe7q1QhfY",
        "colab_type": "code",
        "colab": {
          "base_uri": "https://localhost:8080/",
          "height": 1000
        },
        "outputId": "5623e9db-49af-4723-85d1-8028f375531c"
      },
      "source": [
        "#build the model\n",
        "model = keras.Sequential()\n",
        "\n",
        "#add layer to the model\n",
        "model.add(keras.layers.Dense(1, input_shape = (1,)))\n",
        "\n",
        "#compile the model\n",
        "#adam is a optimizer\n",
        "model.compile(keras.optimizers.Adam(lr = 1), 'mean_squared_error')\n",
        "\n",
        "#fit the model\n",
        "model.fit(squareFeet, salePrice, epochs = 30, batch_size = 10)"
      ],
      "execution_count": 5,
      "outputs": [
        {
          "output_type": "stream",
          "text": [
            "WARNING:tensorflow:From /usr/local/lib/python3.6/dist-packages/keras/backend/tensorflow_backend.py:66: The name tf.get_default_graph is deprecated. Please use tf.compat.v1.get_default_graph instead.\n",
            "\n",
            "WARNING:tensorflow:From /usr/local/lib/python3.6/dist-packages/keras/backend/tensorflow_backend.py:541: The name tf.placeholder is deprecated. Please use tf.compat.v1.placeholder instead.\n",
            "\n",
            "WARNING:tensorflow:From /usr/local/lib/python3.6/dist-packages/keras/backend/tensorflow_backend.py:4432: The name tf.random_uniform is deprecated. Please use tf.random.uniform instead.\n",
            "\n",
            "WARNING:tensorflow:From /usr/local/lib/python3.6/dist-packages/keras/optimizers.py:793: The name tf.train.Optimizer is deprecated. Please use tf.compat.v1.train.Optimizer instead.\n",
            "\n",
            "WARNING:tensorflow:From /usr/local/lib/python3.6/dist-packages/keras/backend/tensorflow_backend.py:1033: The name tf.assign_add is deprecated. Please use tf.compat.v1.assign_add instead.\n",
            "\n",
            "WARNING:tensorflow:From /usr/local/lib/python3.6/dist-packages/keras/backend/tensorflow_backend.py:1020: The name tf.assign is deprecated. Please use tf.compat.v1.assign instead.\n",
            "\n",
            "Epoch 1/30\n",
            "1460/1460 [==============================] - 0s 174us/step - loss: 13810209711.3425\n",
            "Epoch 2/30\n",
            "1460/1460 [==============================] - 0s 84us/step - loss: 3343370009.8630\n",
            "Epoch 3/30\n",
            "1460/1460 [==============================] - 0s 93us/step - loss: 3195699024.4384\n",
            "Epoch 4/30\n",
            "1460/1460 [==============================] - 0s 86us/step - loss: 3193652997.9178\n",
            "Epoch 5/30\n",
            "1460/1460 [==============================] - 0s 83us/step - loss: 3190246952.9863\n",
            "Epoch 6/30\n",
            "1460/1460 [==============================] - 0s 83us/step - loss: 3194566344.1096\n",
            "Epoch 7/30\n",
            "1460/1460 [==============================] - 0s 100us/step - loss: 3203715592.9863\n",
            "Epoch 8/30\n",
            "1460/1460 [==============================] - 0s 87us/step - loss: 3187578962.9589\n",
            "Epoch 9/30\n",
            "1460/1460 [==============================] - 0s 90us/step - loss: 3203222050.6301\n",
            "Epoch 10/30\n",
            "1460/1460 [==============================] - 0s 86us/step - loss: 3189625590.1370\n",
            "Epoch 11/30\n",
            "1460/1460 [==============================] - 0s 85us/step - loss: 3197286839.0137\n",
            "Epoch 12/30\n",
            "1460/1460 [==============================] - 0s 87us/step - loss: 3203756261.9178\n",
            "Epoch 13/30\n",
            "1460/1460 [==============================] - 0s 85us/step - loss: 3220317614.4658\n",
            "Epoch 14/30\n",
            "1460/1460 [==============================] - 0s 83us/step - loss: 3186723652.6027\n",
            "Epoch 15/30\n",
            "1460/1460 [==============================] - 0s 89us/step - loss: 3202918291.0685\n",
            "Epoch 16/30\n",
            "1460/1460 [==============================] - 0s 83us/step - loss: 3201171571.5068\n",
            "Epoch 17/30\n",
            "1460/1460 [==============================] - 0s 96us/step - loss: 3202352057.6438\n",
            "Epoch 18/30\n",
            "1460/1460 [==============================] - 0s 91us/step - loss: 3216426967.6712\n",
            "Epoch 19/30\n",
            "1460/1460 [==============================] - 0s 84us/step - loss: 3174722395.2877\n",
            "Epoch 20/30\n",
            "1460/1460 [==============================] - 0s 87us/step - loss: 3178683919.7808\n",
            "Epoch 21/30\n",
            "1460/1460 [==============================] - 0s 96us/step - loss: 3203942738.6301\n",
            "Epoch 22/30\n",
            "1460/1460 [==============================] - 0s 86us/step - loss: 3192480522.5205\n",
            "Epoch 23/30\n",
            "1460/1460 [==============================] - 0s 89us/step - loss: 3202601821.1507\n",
            "Epoch 24/30\n",
            "1460/1460 [==============================] - 0s 83us/step - loss: 3206844352.2192\n",
            "Epoch 25/30\n",
            "1460/1460 [==============================] - 0s 87us/step - loss: 3208040786.4110\n",
            "Epoch 26/30\n",
            "1460/1460 [==============================] - 0s 88us/step - loss: 3193484636.2740\n",
            "Epoch 27/30\n",
            "1460/1460 [==============================] - 0s 85us/step - loss: 3199295838.1370\n",
            "Epoch 28/30\n",
            "1460/1460 [==============================] - 0s 85us/step - loss: 3216980314.3014\n",
            "Epoch 29/30\n",
            "1460/1460 [==============================] - 0s 93us/step - loss: 3200931043.8356\n",
            "Epoch 30/30\n",
            "1460/1460 [==============================] - 0s 81us/step - loss: 3221576399.1233\n"
          ],
          "name": "stdout"
        },
        {
          "output_type": "execute_result",
          "data": {
            "text/plain": [
              "<keras.callbacks.History at 0x7f7f66a07e48>"
            ]
          },
          "metadata": {
            "tags": []
          },
          "execution_count": 5
        }
      ]
    },
    {
      "cell_type": "code",
      "metadata": {
        "id": "lgHHzfraVjBR",
        "colab_type": "code",
        "colab": {
          "base_uri": "https://localhost:8080/",
          "height": 312
        },
        "outputId": "e396996d-b380-4823-dd31-2f3588199c1b"
      },
      "source": [
        "#specify the plot type\n",
        "df.plot(kind = 'scatter', x = 'SquareFeet', y = 'SalePrice', title = 'Housing Prices and Square Footage of Iowa Homes')\n",
        "\n",
        "#provide the value to get the prediction\n",
        "y_pred = model.predict(squareFeet)\n",
        "\n",
        "#plot the graph\n",
        "plt.plot(squareFeet, y_pred, color = 'red')"
      ],
      "execution_count": 6,
      "outputs": [
        {
          "output_type": "execute_result",
          "data": {
            "text/plain": [
              "[<matplotlib.lines.Line2D at 0x7f7f66178160>]"
            ]
          },
          "metadata": {
            "tags": []
          },
          "execution_count": 6
        },
        {
          "output_type": "display_data",
          "data": {
            "image/png": "[encoded data removed]",
            "text/plain": [
              "<Figure size 432x288 with 1 Axes>"
            ]
          },
          "metadata": {
            "tags": []
          }
        }
      ]
    },
    {
      "cell_type": "code",
      "metadata": {
        "id": "j_3QstHVaO4s",
        "colab_type": "code",
        "colab": {
          "base_uri": "https://localhost:8080/",
          "height": 34
        },
        "outputId": "136e19ff-03b1-457c-8d8b-a959ae5ce712"
      },
      "source": [
        "#let's predict a sale price for a 3000 sqf house\n",
        "newSquF = 2000\n",
        "print(model.predict([newSquF]))"
      ],
      "execution_count": 7,
      "outputs": [
        {
          "output_type": "stream",
          "text": [
            "[[233947.62]]\n"
          ],
          "name": "stdout"
        }
      ]
    }
  ]
}